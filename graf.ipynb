{
 "cells": [
  {
   "cell_type": "code",
   "execution_count": 1,
   "id": "cddb0dd0-fd71-4318-b6bf-575aabcc0aa7",
   "metadata": {},
   "outputs": [],
   "source": [
    "import pandas as pd"
   ]
  },
  {
   "cell_type": "code",
   "execution_count": 2,
   "id": "b3ef30bb-456c-460f-89fe-54cbf12eb21f",
   "metadata": {},
   "outputs": [],
   "source": [
    "EXP=\"exp1\""
   ]
  },
  {
   "cell_type": "code",
   "execution_count": 3,
   "id": "ab608e67-7671-4f79-b603-024841bcf9d1",
   "metadata": {},
   "outputs": [
    {
     "data": {
      "text/html": [
       "<div>\n",
       "<style scoped>\n",
       "    .dataframe tbody tr th:only-of-type {\n",
       "        vertical-align: middle;\n",
       "    }\n",
       "\n",
       "    .dataframe tbody tr th {\n",
       "        vertical-align: top;\n",
       "    }\n",
       "\n",
       "    .dataframe thead th {\n",
       "        text-align: right;\n",
       "    }\n",
       "</style>\n",
       "<table border=\"1\" class=\"dataframe\">\n",
       "  <thead>\n",
       "    <tr style=\"text-align: right;\">\n",
       "      <th></th>\n",
       "      <th>iter</th>\n",
       "      <th>name</th>\n",
       "      <th>Does the agent know about Valentine's Day Party?</th>\n",
       "    </tr>\n",
       "  </thead>\n",
       "  <tbody>\n",
       "    <tr>\n",
       "      <th>0</th>\n",
       "      <td>0</td>\n",
       "      <td>Klaus Mueller</td>\n",
       "      <td>False</td>\n",
       "    </tr>\n",
       "    <tr>\n",
       "      <th>1</th>\n",
       "      <td>1</td>\n",
       "      <td>Klaus Mueller</td>\n",
       "      <td>True</td>\n",
       "    </tr>\n",
       "    <tr>\n",
       "      <th>2</th>\n",
       "      <td>2</td>\n",
       "      <td>Klaus Mueller</td>\n",
       "      <td>True</td>\n",
       "    </tr>\n",
       "    <tr>\n",
       "      <th>3</th>\n",
       "      <td>3</td>\n",
       "      <td>Klaus Mueller</td>\n",
       "      <td>True</td>\n",
       "    </tr>\n",
       "    <tr>\n",
       "      <th>4</th>\n",
       "      <td>4</td>\n",
       "      <td>Klaus Mueller</td>\n",
       "      <td>True</td>\n",
       "    </tr>\n",
       "    <tr>\n",
       "      <th>...</th>\n",
       "      <td>...</td>\n",
       "      <td>...</td>\n",
       "      <td>...</td>\n",
       "    </tr>\n",
       "    <tr>\n",
       "      <th>175</th>\n",
       "      <td>1</td>\n",
       "      <td>Isabella Rodriguez</td>\n",
       "      <td>True</td>\n",
       "    </tr>\n",
       "    <tr>\n",
       "      <th>176</th>\n",
       "      <td>2</td>\n",
       "      <td>Isabella Rodriguez</td>\n",
       "      <td>True</td>\n",
       "    </tr>\n",
       "    <tr>\n",
       "      <th>177</th>\n",
       "      <td>3</td>\n",
       "      <td>Isabella Rodriguez</td>\n",
       "      <td>True</td>\n",
       "    </tr>\n",
       "    <tr>\n",
       "      <th>178</th>\n",
       "      <td>4</td>\n",
       "      <td>Isabella Rodriguez</td>\n",
       "      <td>True</td>\n",
       "    </tr>\n",
       "    <tr>\n",
       "      <th>179</th>\n",
       "      <td>5</td>\n",
       "      <td>Isabella Rodriguez</td>\n",
       "      <td>True</td>\n",
       "    </tr>\n",
       "  </tbody>\n",
       "</table>\n",
       "<p>180 rows × 3 columns</p>\n",
       "</div>"
      ],
      "text/plain": [
       "     iter                name Does the agent know about Valentine's Day Party?\n",
       "0       0       Klaus Mueller                                            False\n",
       "1       1       Klaus Mueller                                             True\n",
       "2       2       Klaus Mueller                                             True\n",
       "3       3       Klaus Mueller                                             True\n",
       "4       4       Klaus Mueller                                             True\n",
       "..    ...                 ...                                              ...\n",
       "175     1  Isabella Rodriguez                                             True\n",
       "176     2  Isabella Rodriguez                                             True\n",
       "177     3  Isabella Rodriguez                                             True\n",
       "178     4  Isabella Rodriguez                                             True\n",
       "179     5  Isabella Rodriguez                                             True\n",
       "\n",
       "[180 rows x 3 columns]"
      ]
     },
     "execution_count": 3,
     "metadata": {},
     "output_type": "execute_result"
    }
   ],
   "source": [
    "df_list = []\n",
    "for i in range(10):\n",
    "    tmp = pd.read_csv(f\"{EXP}.{i}.csv\", index_col=0)\n",
    "    tmp[\"iter\"] = tmp.index\n",
    "    df_list.append(tmp)\n",
    "df = (\n",
    "    pd.concat(df_list)\n",
    "    .melt(id_vars=[\"iter\"])\n",
    ")\n",
    "QUESTION = \"Does the agent know about Valentine's Day Party?\"\n",
    "df.columns = [\"iter\", \"name\", QUESTION]\n",
    "df"
   ]
  },
  {
   "cell_type": "code",
   "execution_count": 4,
   "id": "6d66b970-2eb7-489a-b9d6-b18fd67e030b",
   "metadata": {},
   "outputs": [
    {
     "name": "stdout",
     "output_type": "stream",
     "text": [
      "<class 'pandas.core.frame.DataFrame'>\n",
      "RangeIndex: 180 entries, 0 to 179\n",
      "Data columns (total 3 columns):\n",
      " #   Column                                            Non-Null Count  Dtype \n",
      "---  ------                                            --------------  ----- \n",
      " 0   iter                                              180 non-null    int64 \n",
      " 1   name                                              180 non-null    object\n",
      " 2   Does the agent know about Valentine's Day Party?  180 non-null    bool  \n",
      "dtypes: bool(1), int64(1), object(1)\n",
      "memory usage: 3.1+ KB\n"
     ]
    }
   ],
   "source": [
    "df = df.fillna(False)\n",
    "df.info()"
   ]
  },
  {
   "cell_type": "code",
   "execution_count": 5,
   "id": "f74b23fe-0602-4d7c-819b-dc7231edf254",
   "metadata": {},
   "outputs": [],
   "source": [
    "import matplotlib.pyplot as plt \n",
    "import seaborn as sns"
   ]
  },
  {
   "cell_type": "code",
   "execution_count": 6,
   "id": "a0fe64b1-5ae7-4fb8-9701-e6dd7fb1a724",
   "metadata": {},
   "outputs": [
    {
     "data": {
      "image/png": "[encoded data removed]",
      "text/plain": [
       "<Figure size 640x480 with 1 Axes>"
      ]
     },
     "metadata": {},
     "output_type": "display_data"
    }
   ],
   "source": [
    "ax = sns.barplot(data=df, x=\"iter\", y=QUESTION, hue=\"name\")\n",
    "#sns.move_legend(ax, \"upper left\", bbox_to_anchor=(1, 1))\n",
    "sns.move_legend(ax, \"upper left\")\n",
    "plt.savefig(f\"valentines_party{EXP}.png\")"
   ]
  },
  {
   "cell_type": "code",
   "execution_count": null,
   "id": "fd68deb8-546a-4ace-b43c-36e6fc5942e9",
   "metadata": {},
   "outputs": [],
   "source": []
  }
 ],
 "metadata": {
  "kernelspec": {
   "display_name": "Python 3 (ipykernel)",
   "language": "python",
   "name": "python3"
  },
  "language_info": {
   "codemirror_mode": {
    "name": "ipython",
    "version": 3
   },
   "file_extension": ".py",
   "mimetype": "text/x-python",
   "name": "python",
   "nbconvert_exporter": "python",
   "pygments_lexer": "ipython3",
   "version": "3.11.8"
  }
 },
 "nbformat": 4,
 "nbformat_minor": 5
}
